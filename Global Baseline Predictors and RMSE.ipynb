{
 "cells": [
  {
   "cell_type": "markdown",
   "metadata": {},
   "source": [
    "### CUNY MSDS DATA643 - Recommender System"
   ]
  },
  {
   "cell_type": "markdown",
   "metadata": {},
   "source": [
    "---"
   ]
  },
  {
   "cell_type": "markdown",
   "metadata": {},
   "source": [
    "### Rose Koh\n",
    "### 06/10/2018"
   ]
  },
  {
   "cell_type": "markdown",
   "metadata": {},
   "source": [
    "---"
   ]
  },
  {
   "cell_type": "markdown",
   "metadata": {},
   "source": [
    "## Global Baseline Predictors and RMSE"
   ]
  },
  {
   "cell_type": "markdown",
   "metadata": {},
   "source": [
    "In this first assignment, we’ll attempt to predict ratings with very little information. \n",
    "\n",
    "We’ll first look at just raw averages across all (training dataset) users. \n",
    "\n",
    "We’ll then account for “bias” by normalizing across users and across items.\n",
    "\n",
    "Working with ratings in a user-item matrix, where each rating may be (1) assigned to a training dataset, (2) assigned to a test dataset, or (3) missing."
   ]
  },
  {
   "cell_type": "markdown",
   "metadata": {},
   "source": [
    "## Recommender System Description\n",
    "\n",
    "<i> Briefly describe the recommender system that you’re going to build out from a business perspective, e.g. “This system recommends data science books to readers.\"</i>\n",
    "\n",
    "* This system recommends travel destinations to travellers."
   ]
  },
  {
   "cell_type": "markdown",
   "metadata": {},
   "source": [
    "## Dataset Description\n",
    "\n",
    "<i> \n",
    "Find a dataset, or build out your own toy dataset. As a minimum requirement for complexity, please include numeric ratings for at least five users, across at least five items, with some missing data.\n",
    "</i>\n",
    "\n",
    "* This dataset is built out as toy dataset with twenty users, five cities, ratings with some missing data.\n",
    "\n",
    "## Load Data\n",
    "\n",
    "<i>\n",
    "Load your data into (for example) an R or dataframe, a Python dictionary or list of lists, (or another data structure of your choosing). From there, create a user-item matrix.\n",
    "\n",
    "If you choose to work with a large dataset, you’re encouraged to also create a small, relatively dense “user-item” matrix as a subset so that you can hand-verify your calculations.\n",
    "</i>"
   ]
  },
  {
   "cell_type": "code",
   "execution_count": 1,
   "metadata": {
    "collapsed": true
   },
   "outputs": [],
   "source": [
    "import pandas as pd\n",
    "import numpy as np"
   ]
  },
  {
   "cell_type": "code",
   "execution_count": 2,
   "metadata": {
    "collapsed": true
   },
   "outputs": [],
   "source": [
    "df = pd.DataFrame({\"destinations\":[\"Croatia\", \"Montenegro\", \"Malta\",  \"Fiji\", \"Mauritius\"],\\\n",
    "                   \"user_A\":['NA',4,3,5,5], \\\n",
    "                   \"user_B\":[5,4,3,4,5], \\\n",
    "                   \"user_C\":[1,'NA',1,4,5],\\\n",
    "                   \"user_D\":['NA',1,3,5,5], \\\n",
    "                   \"user_E\":[3,3,1,4,5], \\\n",
    "                  \"user_F\":[3,2,5,1,1], \\\n",
    "                  \"user_G\":[2,3,4,'NA',2], \\\n",
    "                  \"user_H\":[3,4,3,1,2], \\\n",
    "                  \"user_I\":[4,3,'NA',2,1], \\\n",
    "                  \"user_J\":[5,1,3,1,5], \\\n",
    "                   \"user_K\":[4,'NA',3,3,2], \\\n",
    "                   \"user_L\":[3,5,3,2,5],\\\n",
    "                   \"user_M\":[3,5,3,1,5], \\\n",
    "                   \"user_N\":[1,2,3,'NA',5], \\\n",
    "                   \"user_O\":[1,2,3,4,'NA']\n",
    "                  })"
   ]
  },
  {
   "cell_type": "code",
   "execution_count": 3,
   "metadata": {},
   "outputs": [
    {
     "data": {
      "text/html": [
       "<div>\n",
       "<style>\n",
       "    .dataframe thead tr:only-child th {\n",
       "        text-align: right;\n",
       "    }\n",
       "\n",
       "    .dataframe thead th {\n",
       "        text-align: left;\n",
       "    }\n",
       "\n",
       "    .dataframe tbody tr th {\n",
       "        vertical-align: top;\n",
       "    }\n",
       "</style>\n",
       "<table border=\"1\" class=\"dataframe\">\n",
       "  <thead>\n",
       "    <tr style=\"text-align: right;\">\n",
       "      <th></th>\n",
       "      <th>destinations</th>\n",
       "      <th>user_A</th>\n",
       "      <th>user_B</th>\n",
       "      <th>user_C</th>\n",
       "      <th>user_D</th>\n",
       "      <th>user_E</th>\n",
       "      <th>user_F</th>\n",
       "      <th>user_G</th>\n",
       "      <th>user_H</th>\n",
       "      <th>user_I</th>\n",
       "      <th>user_J</th>\n",
       "      <th>user_K</th>\n",
       "      <th>user_L</th>\n",
       "      <th>user_M</th>\n",
       "      <th>user_N</th>\n",
       "      <th>user_O</th>\n",
       "    </tr>\n",
       "  </thead>\n",
       "  <tbody>\n",
       "    <tr>\n",
       "      <th>0</th>\n",
       "      <td>Croatia</td>\n",
       "      <td>NA</td>\n",
       "      <td>5</td>\n",
       "      <td>1</td>\n",
       "      <td>NA</td>\n",
       "      <td>3</td>\n",
       "      <td>3</td>\n",
       "      <td>2</td>\n",
       "      <td>3</td>\n",
       "      <td>4</td>\n",
       "      <td>5</td>\n",
       "      <td>4</td>\n",
       "      <td>3</td>\n",
       "      <td>3</td>\n",
       "      <td>1</td>\n",
       "      <td>1</td>\n",
       "    </tr>\n",
       "    <tr>\n",
       "      <th>1</th>\n",
       "      <td>Montenegro</td>\n",
       "      <td>4</td>\n",
       "      <td>4</td>\n",
       "      <td>NA</td>\n",
       "      <td>1</td>\n",
       "      <td>3</td>\n",
       "      <td>2</td>\n",
       "      <td>3</td>\n",
       "      <td>4</td>\n",
       "      <td>3</td>\n",
       "      <td>1</td>\n",
       "      <td>NA</td>\n",
       "      <td>5</td>\n",
       "      <td>5</td>\n",
       "      <td>2</td>\n",
       "      <td>2</td>\n",
       "    </tr>\n",
       "    <tr>\n",
       "      <th>2</th>\n",
       "      <td>Malta</td>\n",
       "      <td>3</td>\n",
       "      <td>3</td>\n",
       "      <td>1</td>\n",
       "      <td>3</td>\n",
       "      <td>1</td>\n",
       "      <td>5</td>\n",
       "      <td>4</td>\n",
       "      <td>3</td>\n",
       "      <td>NA</td>\n",
       "      <td>3</td>\n",
       "      <td>3</td>\n",
       "      <td>3</td>\n",
       "      <td>3</td>\n",
       "      <td>3</td>\n",
       "      <td>3</td>\n",
       "    </tr>\n",
       "    <tr>\n",
       "      <th>3</th>\n",
       "      <td>Fiji</td>\n",
       "      <td>5</td>\n",
       "      <td>4</td>\n",
       "      <td>4</td>\n",
       "      <td>5</td>\n",
       "      <td>4</td>\n",
       "      <td>1</td>\n",
       "      <td>NA</td>\n",
       "      <td>1</td>\n",
       "      <td>2</td>\n",
       "      <td>1</td>\n",
       "      <td>3</td>\n",
       "      <td>2</td>\n",
       "      <td>1</td>\n",
       "      <td>NA</td>\n",
       "      <td>4</td>\n",
       "    </tr>\n",
       "    <tr>\n",
       "      <th>4</th>\n",
       "      <td>Mauritius</td>\n",
       "      <td>5</td>\n",
       "      <td>5</td>\n",
       "      <td>5</td>\n",
       "      <td>5</td>\n",
       "      <td>5</td>\n",
       "      <td>1</td>\n",
       "      <td>2</td>\n",
       "      <td>2</td>\n",
       "      <td>1</td>\n",
       "      <td>5</td>\n",
       "      <td>2</td>\n",
       "      <td>5</td>\n",
       "      <td>5</td>\n",
       "      <td>5</td>\n",
       "      <td>NA</td>\n",
       "    </tr>\n",
       "  </tbody>\n",
       "</table>\n",
       "</div>"
      ],
      "text/plain": [
       "  destinations user_A  user_B user_C user_D  user_E  user_F user_G  user_H  \\\n",
       "0      Croatia     NA       5      1     NA       3       3      2       3   \n",
       "1   Montenegro      4       4     NA      1       3       2      3       4   \n",
       "2        Malta      3       3      1      3       1       5      4       3   \n",
       "3         Fiji      5       4      4      5       4       1     NA       1   \n",
       "4    Mauritius      5       5      5      5       5       1      2       2   \n",
       "\n",
       "  user_I  user_J user_K  user_L  user_M user_N user_O  \n",
       "0      4       5      4       3       3      1      1  \n",
       "1      3       1     NA       5       5      2      2  \n",
       "2     NA       3      3       3       3      3      3  \n",
       "3      2       1      3       2       1     NA      4  \n",
       "4      1       5      2       5       5      5     NA  "
      ]
     },
     "execution_count": 3,
     "metadata": {},
     "output_type": "execute_result"
    }
   ],
   "source": [
    "df"
   ]
  },
  {
   "cell_type": "code",
   "execution_count": 4,
   "metadata": {
    "collapsed": true
   },
   "outputs": [],
   "source": [
    "df = df.set_index('destinations').T"
   ]
  },
  {
   "cell_type": "code",
   "execution_count": 5,
   "metadata": {
    "collapsed": true
   },
   "outputs": [],
   "source": [
    "df = df.replace('NA', np.nan)"
   ]
  },
  {
   "cell_type": "code",
   "execution_count": 6,
   "metadata": {},
   "outputs": [
    {
     "data": {
      "text/plain": [
       "destinations\n",
       "Croatia       True\n",
       "Montenegro    True\n",
       "Malta         True\n",
       "Fiji          True\n",
       "Mauritius     True\n",
       "dtype: bool"
      ]
     },
     "execution_count": 6,
     "metadata": {},
     "output_type": "execute_result"
    }
   ],
   "source": [
    "df.isnull().any()"
   ]
  },
  {
   "cell_type": "code",
   "execution_count": 7,
   "metadata": {},
   "outputs": [
    {
     "data": {
      "text/html": [
       "<div>\n",
       "<style>\n",
       "    .dataframe thead tr:only-child th {\n",
       "        text-align: right;\n",
       "    }\n",
       "\n",
       "    .dataframe thead th {\n",
       "        text-align: left;\n",
       "    }\n",
       "\n",
       "    .dataframe tbody tr th {\n",
       "        vertical-align: top;\n",
       "    }\n",
       "</style>\n",
       "<table border=\"1\" class=\"dataframe\">\n",
       "  <thead>\n",
       "    <tr style=\"text-align: right;\">\n",
       "      <th>destinations</th>\n",
       "      <th>Croatia</th>\n",
       "      <th>Montenegro</th>\n",
       "      <th>Malta</th>\n",
       "      <th>Fiji</th>\n",
       "      <th>Mauritius</th>\n",
       "    </tr>\n",
       "  </thead>\n",
       "  <tbody>\n",
       "    <tr>\n",
       "      <th>user_A</th>\n",
       "      <td>NaN</td>\n",
       "      <td>4.0</td>\n",
       "      <td>3.0</td>\n",
       "      <td>5.0</td>\n",
       "      <td>5.0</td>\n",
       "    </tr>\n",
       "    <tr>\n",
       "      <th>user_B</th>\n",
       "      <td>5.0</td>\n",
       "      <td>4.0</td>\n",
       "      <td>3.0</td>\n",
       "      <td>4.0</td>\n",
       "      <td>5.0</td>\n",
       "    </tr>\n",
       "    <tr>\n",
       "      <th>user_C</th>\n",
       "      <td>1.0</td>\n",
       "      <td>NaN</td>\n",
       "      <td>1.0</td>\n",
       "      <td>4.0</td>\n",
       "      <td>5.0</td>\n",
       "    </tr>\n",
       "    <tr>\n",
       "      <th>user_D</th>\n",
       "      <td>NaN</td>\n",
       "      <td>1.0</td>\n",
       "      <td>3.0</td>\n",
       "      <td>5.0</td>\n",
       "      <td>5.0</td>\n",
       "    </tr>\n",
       "    <tr>\n",
       "      <th>user_E</th>\n",
       "      <td>3.0</td>\n",
       "      <td>3.0</td>\n",
       "      <td>1.0</td>\n",
       "      <td>4.0</td>\n",
       "      <td>5.0</td>\n",
       "    </tr>\n",
       "    <tr>\n",
       "      <th>user_F</th>\n",
       "      <td>3.0</td>\n",
       "      <td>2.0</td>\n",
       "      <td>5.0</td>\n",
       "      <td>1.0</td>\n",
       "      <td>1.0</td>\n",
       "    </tr>\n",
       "    <tr>\n",
       "      <th>user_G</th>\n",
       "      <td>2.0</td>\n",
       "      <td>3.0</td>\n",
       "      <td>4.0</td>\n",
       "      <td>NaN</td>\n",
       "      <td>2.0</td>\n",
       "    </tr>\n",
       "    <tr>\n",
       "      <th>user_H</th>\n",
       "      <td>3.0</td>\n",
       "      <td>4.0</td>\n",
       "      <td>3.0</td>\n",
       "      <td>1.0</td>\n",
       "      <td>2.0</td>\n",
       "    </tr>\n",
       "    <tr>\n",
       "      <th>user_I</th>\n",
       "      <td>4.0</td>\n",
       "      <td>3.0</td>\n",
       "      <td>NaN</td>\n",
       "      <td>2.0</td>\n",
       "      <td>1.0</td>\n",
       "    </tr>\n",
       "    <tr>\n",
       "      <th>user_J</th>\n",
       "      <td>5.0</td>\n",
       "      <td>1.0</td>\n",
       "      <td>3.0</td>\n",
       "      <td>1.0</td>\n",
       "      <td>5.0</td>\n",
       "    </tr>\n",
       "    <tr>\n",
       "      <th>user_K</th>\n",
       "      <td>4.0</td>\n",
       "      <td>NaN</td>\n",
       "      <td>3.0</td>\n",
       "      <td>3.0</td>\n",
       "      <td>2.0</td>\n",
       "    </tr>\n",
       "    <tr>\n",
       "      <th>user_L</th>\n",
       "      <td>3.0</td>\n",
       "      <td>5.0</td>\n",
       "      <td>3.0</td>\n",
       "      <td>2.0</td>\n",
       "      <td>5.0</td>\n",
       "    </tr>\n",
       "    <tr>\n",
       "      <th>user_M</th>\n",
       "      <td>3.0</td>\n",
       "      <td>5.0</td>\n",
       "      <td>3.0</td>\n",
       "      <td>1.0</td>\n",
       "      <td>5.0</td>\n",
       "    </tr>\n",
       "    <tr>\n",
       "      <th>user_N</th>\n",
       "      <td>1.0</td>\n",
       "      <td>2.0</td>\n",
       "      <td>3.0</td>\n",
       "      <td>NaN</td>\n",
       "      <td>5.0</td>\n",
       "    </tr>\n",
       "    <tr>\n",
       "      <th>user_O</th>\n",
       "      <td>1.0</td>\n",
       "      <td>2.0</td>\n",
       "      <td>3.0</td>\n",
       "      <td>4.0</td>\n",
       "      <td>NaN</td>\n",
       "    </tr>\n",
       "  </tbody>\n",
       "</table>\n",
       "</div>"
      ],
      "text/plain": [
       "destinations  Croatia  Montenegro  Malta  Fiji  Mauritius\n",
       "user_A            NaN         4.0    3.0   5.0        5.0\n",
       "user_B            5.0         4.0    3.0   4.0        5.0\n",
       "user_C            1.0         NaN    1.0   4.0        5.0\n",
       "user_D            NaN         1.0    3.0   5.0        5.0\n",
       "user_E            3.0         3.0    1.0   4.0        5.0\n",
       "user_F            3.0         2.0    5.0   1.0        1.0\n",
       "user_G            2.0         3.0    4.0   NaN        2.0\n",
       "user_H            3.0         4.0    3.0   1.0        2.0\n",
       "user_I            4.0         3.0    NaN   2.0        1.0\n",
       "user_J            5.0         1.0    3.0   1.0        5.0\n",
       "user_K            4.0         NaN    3.0   3.0        2.0\n",
       "user_L            3.0         5.0    3.0   2.0        5.0\n",
       "user_M            3.0         5.0    3.0   1.0        5.0\n",
       "user_N            1.0         2.0    3.0   NaN        5.0\n",
       "user_O            1.0         2.0    3.0   4.0        NaN"
      ]
     },
     "execution_count": 7,
     "metadata": {},
     "output_type": "execute_result"
    }
   ],
   "source": [
    "df"
   ]
  },
  {
   "cell_type": "markdown",
   "metadata": {},
   "source": [
    "## Split data\n",
    "\n",
    "<i>\n",
    "Break your ratings into separate training and test datasets.\n",
    "</i>"
   ]
  },
  {
   "cell_type": "code",
   "execution_count": 8,
   "metadata": {
    "collapsed": true
   },
   "outputs": [],
   "source": [
    "train = df[0:int(len(df)*0.8)]\n",
    "test = df[int(len(df)*0.8):]"
   ]
  },
  {
   "cell_type": "code",
   "execution_count": 9,
   "metadata": {},
   "outputs": [
    {
     "data": {
      "text/html": [
       "<div>\n",
       "<style>\n",
       "    .dataframe thead tr:only-child th {\n",
       "        text-align: right;\n",
       "    }\n",
       "\n",
       "    .dataframe thead th {\n",
       "        text-align: left;\n",
       "    }\n",
       "\n",
       "    .dataframe tbody tr th {\n",
       "        vertical-align: top;\n",
       "    }\n",
       "</style>\n",
       "<table border=\"1\" class=\"dataframe\">\n",
       "  <thead>\n",
       "    <tr style=\"text-align: right;\">\n",
       "      <th>destinations</th>\n",
       "      <th>Croatia</th>\n",
       "      <th>Montenegro</th>\n",
       "      <th>Malta</th>\n",
       "      <th>Fiji</th>\n",
       "      <th>Mauritius</th>\n",
       "    </tr>\n",
       "  </thead>\n",
       "  <tbody>\n",
       "    <tr>\n",
       "      <th>user_A</th>\n",
       "      <td>NaN</td>\n",
       "      <td>4.0</td>\n",
       "      <td>3.0</td>\n",
       "      <td>5.0</td>\n",
       "      <td>5.0</td>\n",
       "    </tr>\n",
       "    <tr>\n",
       "      <th>user_B</th>\n",
       "      <td>5.0</td>\n",
       "      <td>4.0</td>\n",
       "      <td>3.0</td>\n",
       "      <td>4.0</td>\n",
       "      <td>5.0</td>\n",
       "    </tr>\n",
       "    <tr>\n",
       "      <th>user_C</th>\n",
       "      <td>1.0</td>\n",
       "      <td>NaN</td>\n",
       "      <td>1.0</td>\n",
       "      <td>4.0</td>\n",
       "      <td>5.0</td>\n",
       "    </tr>\n",
       "    <tr>\n",
       "      <th>user_D</th>\n",
       "      <td>NaN</td>\n",
       "      <td>1.0</td>\n",
       "      <td>3.0</td>\n",
       "      <td>5.0</td>\n",
       "      <td>5.0</td>\n",
       "    </tr>\n",
       "    <tr>\n",
       "      <th>user_E</th>\n",
       "      <td>3.0</td>\n",
       "      <td>3.0</td>\n",
       "      <td>1.0</td>\n",
       "      <td>4.0</td>\n",
       "      <td>5.0</td>\n",
       "    </tr>\n",
       "    <tr>\n",
       "      <th>user_F</th>\n",
       "      <td>3.0</td>\n",
       "      <td>2.0</td>\n",
       "      <td>5.0</td>\n",
       "      <td>1.0</td>\n",
       "      <td>1.0</td>\n",
       "    </tr>\n",
       "    <tr>\n",
       "      <th>user_G</th>\n",
       "      <td>2.0</td>\n",
       "      <td>3.0</td>\n",
       "      <td>4.0</td>\n",
       "      <td>NaN</td>\n",
       "      <td>2.0</td>\n",
       "    </tr>\n",
       "    <tr>\n",
       "      <th>user_H</th>\n",
       "      <td>3.0</td>\n",
       "      <td>4.0</td>\n",
       "      <td>3.0</td>\n",
       "      <td>1.0</td>\n",
       "      <td>2.0</td>\n",
       "    </tr>\n",
       "    <tr>\n",
       "      <th>user_I</th>\n",
       "      <td>4.0</td>\n",
       "      <td>3.0</td>\n",
       "      <td>NaN</td>\n",
       "      <td>2.0</td>\n",
       "      <td>1.0</td>\n",
       "    </tr>\n",
       "    <tr>\n",
       "      <th>user_J</th>\n",
       "      <td>5.0</td>\n",
       "      <td>1.0</td>\n",
       "      <td>3.0</td>\n",
       "      <td>1.0</td>\n",
       "      <td>5.0</td>\n",
       "    </tr>\n",
       "    <tr>\n",
       "      <th>user_K</th>\n",
       "      <td>4.0</td>\n",
       "      <td>NaN</td>\n",
       "      <td>3.0</td>\n",
       "      <td>3.0</td>\n",
       "      <td>2.0</td>\n",
       "    </tr>\n",
       "    <tr>\n",
       "      <th>user_L</th>\n",
       "      <td>3.0</td>\n",
       "      <td>5.0</td>\n",
       "      <td>3.0</td>\n",
       "      <td>2.0</td>\n",
       "      <td>5.0</td>\n",
       "    </tr>\n",
       "  </tbody>\n",
       "</table>\n",
       "</div>"
      ],
      "text/plain": [
       "destinations  Croatia  Montenegro  Malta  Fiji  Mauritius\n",
       "user_A            NaN         4.0    3.0   5.0        5.0\n",
       "user_B            5.0         4.0    3.0   4.0        5.0\n",
       "user_C            1.0         NaN    1.0   4.0        5.0\n",
       "user_D            NaN         1.0    3.0   5.0        5.0\n",
       "user_E            3.0         3.0    1.0   4.0        5.0\n",
       "user_F            3.0         2.0    5.0   1.0        1.0\n",
       "user_G            2.0         3.0    4.0   NaN        2.0\n",
       "user_H            3.0         4.0    3.0   1.0        2.0\n",
       "user_I            4.0         3.0    NaN   2.0        1.0\n",
       "user_J            5.0         1.0    3.0   1.0        5.0\n",
       "user_K            4.0         NaN    3.0   3.0        2.0\n",
       "user_L            3.0         5.0    3.0   2.0        5.0"
      ]
     },
     "execution_count": 9,
     "metadata": {},
     "output_type": "execute_result"
    }
   ],
   "source": [
    "train"
   ]
  },
  {
   "cell_type": "code",
   "execution_count": 10,
   "metadata": {},
   "outputs": [
    {
     "data": {
      "text/html": [
       "<div>\n",
       "<style>\n",
       "    .dataframe thead tr:only-child th {\n",
       "        text-align: right;\n",
       "    }\n",
       "\n",
       "    .dataframe thead th {\n",
       "        text-align: left;\n",
       "    }\n",
       "\n",
       "    .dataframe tbody tr th {\n",
       "        vertical-align: top;\n",
       "    }\n",
       "</style>\n",
       "<table border=\"1\" class=\"dataframe\">\n",
       "  <thead>\n",
       "    <tr style=\"text-align: right;\">\n",
       "      <th>destinations</th>\n",
       "      <th>Croatia</th>\n",
       "      <th>Montenegro</th>\n",
       "      <th>Malta</th>\n",
       "      <th>Fiji</th>\n",
       "      <th>Mauritius</th>\n",
       "    </tr>\n",
       "  </thead>\n",
       "  <tbody>\n",
       "    <tr>\n",
       "      <th>user_M</th>\n",
       "      <td>3.0</td>\n",
       "      <td>5.0</td>\n",
       "      <td>3.0</td>\n",
       "      <td>1.0</td>\n",
       "      <td>5.0</td>\n",
       "    </tr>\n",
       "    <tr>\n",
       "      <th>user_N</th>\n",
       "      <td>1.0</td>\n",
       "      <td>2.0</td>\n",
       "      <td>3.0</td>\n",
       "      <td>NaN</td>\n",
       "      <td>5.0</td>\n",
       "    </tr>\n",
       "    <tr>\n",
       "      <th>user_O</th>\n",
       "      <td>1.0</td>\n",
       "      <td>2.0</td>\n",
       "      <td>3.0</td>\n",
       "      <td>4.0</td>\n",
       "      <td>NaN</td>\n",
       "    </tr>\n",
       "  </tbody>\n",
       "</table>\n",
       "</div>"
      ],
      "text/plain": [
       "destinations  Croatia  Montenegro  Malta  Fiji  Mauritius\n",
       "user_M            3.0         5.0    3.0   1.0        5.0\n",
       "user_N            1.0         2.0    3.0   NaN        5.0\n",
       "user_O            1.0         2.0    3.0   4.0        NaN"
      ]
     },
     "execution_count": 10,
     "metadata": {},
     "output_type": "execute_result"
    }
   ],
   "source": [
    "test"
   ]
  },
  {
   "cell_type": "markdown",
   "metadata": {},
   "source": [
    "## Calculation"
   ]
  },
  {
   "cell_type": "markdown",
   "metadata": {},
   "source": [
    "### Raw average (mean) rating\n",
    "\n",
    "<i>  Using your training data, calculate the raw average (mean) rating for every user-item combination. </i>"
   ]
  },
  {
   "cell_type": "code",
   "execution_count": 11,
   "metadata": {},
   "outputs": [
    {
     "name": "stdout",
     "output_type": "stream",
     "text": [
      "3.14814814815\n"
     ]
    }
   ],
   "source": [
    "train_raw_avg = np.nanmean(np.matrix(train))\n",
    "print(train_raw_avg)"
   ]
  },
  {
   "cell_type": "markdown",
   "metadata": {},
   "source": [
    "### RMSE\n",
    "\n",
    "<i> Calculate the RMSE for raw average for both your training data and your test data. </i>"
   ]
  },
  {
   "cell_type": "code",
   "execution_count": 12,
   "metadata": {
    "collapsed": true
   },
   "outputs": [],
   "source": [
    "from math import sqrt\n",
    "\n",
    "def rmse(actual, pred):\n",
    "    return sqrt(np.nanmean((actual - pred)**2))"
   ]
  },
  {
   "cell_type": "code",
   "execution_count": 13,
   "metadata": {
    "collapsed": true
   },
   "outputs": [],
   "source": [
    "train_rmse = rmse(np.array(train), train_raw_avg)\n",
    "test_rmse = rmse(np.array(test), train_raw_avg)"
   ]
  },
  {
   "cell_type": "code",
   "execution_count": 14,
   "metadata": {},
   "outputs": [
    {
     "name": "stdout",
     "output_type": "stream",
     "text": [
      "1.4064324108183353\n"
     ]
    }
   ],
   "source": [
    "print(train_rmse)"
   ]
  },
  {
   "cell_type": "code",
   "execution_count": 15,
   "metadata": {},
   "outputs": [
    {
     "name": "stdout",
     "output_type": "stream",
     "text": [
      "1.4565929333601841\n"
     ]
    }
   ],
   "source": [
    "print(test_rmse)"
   ]
  },
  {
   "cell_type": "markdown",
   "metadata": {},
   "source": [
    "### Bias\n",
    "\n",
    "<i> Using your training data, calculate the bias for each user and each item. </i>"
   ]
  },
  {
   "cell_type": "code",
   "execution_count": 16,
   "metadata": {
    "collapsed": true
   },
   "outputs": [],
   "source": [
    "train_dest_bias = np.nanmean(np.array(train), axis = 0) - train_raw_avg\n",
    "test_dest_bias = np.nanmean(np.array(test), axis = 0) - train_raw_avg\n",
    "\n",
    "train_user_bias = np.nanmean(np.array(train), axis = 1) - train_raw_avg\n",
    "test_user_bias = np.nanmean(np.array(test), axis = 1) - train_raw_avg"
   ]
  },
  {
   "cell_type": "code",
   "execution_count": 17,
   "metadata": {},
   "outputs": [
    {
     "name": "stdout",
     "output_type": "stream",
     "text": [
      "[ 1.10185185  1.05185185 -0.39814815  0.35185185  0.05185185 -0.74814815\n",
      " -0.39814815 -0.54814815 -0.64814815 -0.14814815 -0.14814815  0.45185185]\n"
     ]
    }
   ],
   "source": [
    "print(train_user_bias)"
   ]
  },
  {
   "cell_type": "code",
   "execution_count": 18,
   "metadata": {},
   "outputs": [
    {
     "name": "stdout",
     "output_type": "stream",
     "text": [
      "[ 0.25185185 -0.39814815 -0.64814815]\n"
     ]
    }
   ],
   "source": [
    "print(test_user_bias)"
   ]
  },
  {
   "cell_type": "code",
   "execution_count": 19,
   "metadata": {},
   "outputs": [
    {
     "name": "stdout",
     "output_type": "stream",
     "text": [
      "[ 0.15185185 -0.14814815 -0.23905724 -0.23905724  0.43518519]\n"
     ]
    }
   ],
   "source": [
    "print(train_dest_bias)"
   ]
  },
  {
   "cell_type": "code",
   "execution_count": 20,
   "metadata": {},
   "outputs": [
    {
     "name": "stdout",
     "output_type": "stream",
     "text": [
      "[-1.48148148 -0.14814815 -0.14814815 -0.64814815  1.85185185]\n"
     ]
    }
   ],
   "source": [
    "print(test_dest_bias)"
   ]
  },
  {
   "cell_type": "markdown",
   "metadata": {},
   "source": [
    "### Baseline predictors\n",
    "\n",
    "<i> From the raw average, and the appropriate user and item biases, calculate the baseline predictors for every user-item combination. </i>"
   ]
  },
  {
   "cell_type": "code",
   "execution_count": 21,
   "metadata": {},
   "outputs": [
    {
     "name": "stdout",
     "output_type": "stream",
     "text": [
      "(12, 5)\n"
     ]
    }
   ],
   "source": [
    "print(train.shape)"
   ]
  },
  {
   "cell_type": "code",
   "execution_count": 22,
   "metadata": {
    "collapsed": true
   },
   "outputs": [],
   "source": [
    "def baseline_predict(raw_avg, user_bias, item_bias):\n",
    "    arr = np.empty((0,5), int)\n",
    "    for i in range(len(user_bias)):\n",
    "        pred_row = item_bias + user_bias[i] + raw_avg\n",
    "        arr = np.append(arr, pred_row)\n",
    "    return arr"
   ]
  },
  {
   "cell_type": "code",
   "execution_count": 23,
   "metadata": {
    "collapsed": true
   },
   "outputs": [],
   "source": [
    "train_pred = baseline_predict(train_raw_avg, train_user_bias, train_dest_bias)\n",
    "test_pred = baseline_predict(train_raw_avg, test_user_bias, train_dest_bias)"
   ]
  },
  {
   "cell_type": "code",
   "execution_count": 24,
   "metadata": {},
   "outputs": [
    {
     "name": "stdout",
     "output_type": "stream",
     "text": [
      "[ 4.40185185  4.10185185  4.01094276  4.01094276  4.68518519  4.35185185\n",
      "  4.05185185  3.96094276  3.96094276  4.63518519  2.90185185  2.60185185\n",
      "  2.51094276  2.51094276  3.18518519  3.65185185  3.35185185  3.26094276\n",
      "  3.26094276  3.93518519  3.35185185  3.05185185  2.96094276  2.96094276\n",
      "  3.63518519  2.55185185  2.25185185  2.16094276  2.16094276  2.83518519\n",
      "  2.90185185  2.60185185  2.51094276  2.51094276  3.18518519  2.75185185\n",
      "  2.45185185  2.36094276  2.36094276  3.03518519  2.65185185  2.35185185\n",
      "  2.26094276  2.26094276  2.93518519  3.15185185  2.85185185  2.76094276\n",
      "  2.76094276  3.43518519  3.15185185  2.85185185  2.76094276  2.76094276\n",
      "  3.43518519  3.75185185  3.45185185  3.36094276  3.36094276  4.03518519]\n",
      "(12, 5)\n"
     ]
    }
   ],
   "source": [
    "print(train_pred)\n",
    "train_pred.shape = (12,5)\n",
    "print(train_pred.shape)"
   ]
  },
  {
   "cell_type": "code",
   "execution_count": 25,
   "metadata": {},
   "outputs": [
    {
     "name": "stdout",
     "output_type": "stream",
     "text": [
      "[ 3.55185185  3.25185185  3.16094276  3.16094276  3.83518519  2.90185185\n",
      "  2.60185185  2.51094276  2.51094276  3.18518519  2.65185185  2.35185185\n",
      "  2.26094276  2.26094276  2.93518519]\n",
      "(3, 5)\n"
     ]
    }
   ],
   "source": [
    "print(test_pred)\n",
    "test_pred.shape = (3,5)\n",
    "print(test_pred.shape)"
   ]
  },
  {
   "cell_type": "markdown",
   "metadata": {},
   "source": [
    "### RMSE\n",
    "\n",
    "<i> Calculate the RMSE for the baseline predictors for both your training data and your test data. </i>"
   ]
  },
  {
   "cell_type": "code",
   "execution_count": 26,
   "metadata": {
    "collapsed": true
   },
   "outputs": [],
   "source": [
    "train_pred_rmse = rmse(np.array(train), np.array(train_pred))\n",
    "test_pred_rmse = rmse(np.array(test), np.array(test_pred))"
   ]
  },
  {
   "cell_type": "code",
   "execution_count": 27,
   "metadata": {},
   "outputs": [
    {
     "name": "stdout",
     "output_type": "stream",
     "text": [
      "1.2350483773221095\n"
     ]
    }
   ],
   "source": [
    "print(train_pred_rmse)"
   ]
  },
  {
   "cell_type": "code",
   "execution_count": 28,
   "metadata": {},
   "outputs": [
    {
     "name": "stdout",
     "output_type": "stream",
     "text": [
      "1.340145457604759\n"
     ]
    }
   ],
   "source": [
    "print(test_pred_rmse)"
   ]
  },
  {
   "cell_type": "markdown",
   "metadata": {},
   "source": [
    "## Summary"
   ]
  },
  {
   "cell_type": "code",
   "execution_count": 29,
   "metadata": {
    "collapsed": true
   },
   "outputs": [],
   "source": [
    "eval_train = train_pred_rmse/train_rmse - 1\n",
    "eval_test = test_pred_rmse/test_rmse - 1"
   ]
  },
  {
   "cell_type": "code",
   "execution_count": 30,
   "metadata": {},
   "outputs": [
    {
     "name": "stdout",
     "output_type": "stream",
     "text": [
      "       1_Raw_Avg_RMSE  2_Baseline_Pred_RMSE    3_Eval\n",
      "Data                                                 \n",
      "Train        1.406432              1.235048 -0.121857\n",
      "Test         1.456593              1.340145 -0.079945\n"
     ]
    }
   ],
   "source": [
    "result = pd.DataFrame({\"Data\": ['Train', 'Test'],\\\n",
    "                       \"1_Raw_Avg_RMSE\": [train_rmse, test_rmse],\\\n",
    "                       \"2_Baseline_Pred_RMSE\": [train_pred_rmse, test_pred_rmse],\\\n",
    "                       \"3_Eval\": [eval_train, eval_test]})\n",
    "result = result.set_index('Data')\n",
    "print(result)"
   ]
  },
  {
   "cell_type": "markdown",
   "metadata": {},
   "source": [
    "The data with the split ratio of 8:2, the train and test dataset both showed improvement of 12.18%, 7.99% respectively in RMSE score using the bias.\n",
    "\n",
    "As we can see above, having one more parameter resulting in the lower RMSE score. There is not a big difference in RMSE score for the raw average or the baseline predictors. This might be due to the small size of the dataset."
   ]
  }
 ],
 "metadata": {
  "kernelspec": {
   "display_name": "Python 3",
   "language": "python",
   "name": "python3"
  },
  "language_info": {
   "codemirror_mode": {
    "name": "ipython",
    "version": 3
   },
   "file_extension": ".py",
   "mimetype": "text/x-python",
   "name": "python",
   "nbconvert_exporter": "python",
   "pygments_lexer": "ipython3",
   "version": "3.6.2"
  }
 },
 "nbformat": 4,
 "nbformat_minor": 2
}
